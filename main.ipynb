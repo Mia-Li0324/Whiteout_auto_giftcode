{
 "cells": [
  {
   "cell_type": "code",
   "execution_count": null,
   "id": "6b0212c2",
   "metadata": {},
   "outputs": [],
   "source": [
    "from selenium import webdriver\n",
    "from selenium.webdriver.common.by import By\n",
    "from selenium.webdriver.support.wait import WebDriverWait \n",
    "import time\n",
    "\n",
    "ID_list = open('ID_list.txt', 'r')\n",
    "\n",
    "gift_code = 'Happykid61'"
   ]
  },
  {
   "cell_type": "code",
   "execution_count": null,
   "id": "a21e485c",
   "metadata": {},
   "outputs": [],
   "source": [
    "# driver = webdriver.Chrome()\n",
    "\n",
    "\n",
    "num=0\n",
    "for ID in ID_list:\n",
    "    \n",
    "    try:\n",
    "        if num < 1:\n",
    "            driver = webdriver.Chrome()\n",
    "            driver.get('https://wos-giftcode.centurygame.com/')\n",
    "\n",
    "            input_ID = driver.find_element(By.TAG_NAME ,'input').send_keys(ID)\n",
    "            input_ID = driver.find_elements(By.TAG_NAME ,'input')[1].send_keys(gift_code)\n",
    "\n",
    "            button_login = driver.find_elements(By.TAG_NAME,'span')[1].click()\n",
    "\n",
    "            button_exchange = WebDriverWait(driver,10).until(lambda x: x.find_element(By.XPATH, \"//div[@class='btn exchange_btn ']\")) \n",
    "            button_exchange.click()\n",
    "\n",
    "            pop_up_window = WebDriverWait(driver,5).until(lambda x: x.find_element(By.XPATH, \"//div[@class='confirm_btn']\")) \n",
    "            pop_up_window.click()\n",
    "\n",
    "            button_logout = WebDriverWait(driver,10).until(lambda x: x.find_element(By.XPATH, \"//div[@class='exit_icon']\")) \n",
    "            button_logout.click()\n",
    "\n",
    "            print(f'{ID} succeed.')\n",
    "\n",
    "            num += 1\n",
    "        \n",
    "        else:\n",
    "            clear_ID = WebDriverWait(driver,10).until(lambda x: x.find_element(By.XPATH, \"//input[@placeholder='角色ID']\")).clear()\n",
    "            input_ID = driver.find_element(By.TAG_NAME ,'input').send_keys(ID)\n",
    "\n",
    "            button_login = driver.find_elements(By.TAG_NAME,'span')[1].click()\n",
    "\n",
    "            button_exchange = WebDriverWait(driver,10).until(lambda x: x.find_element(By.XPATH, \"//div[@class='btn exchange_btn ']\")) \n",
    "            button_exchange.click()\n",
    "\n",
    "            pop_up_window = WebDriverWait(driver,5).until(lambda x: x.find_element(By.XPATH, \"//div[@class='confirm_btn']\")) \n",
    "            pop_up_window.click()\n",
    "\n",
    "            button_logout = WebDriverWait(driver,10).until(lambda x: x.find_element(By.XPATH, \"//div[@class='exit_icon']\")) \n",
    "            button_logout.click()\n",
    "\n",
    "    #         driver.quit()\n",
    "\n",
    "            print(f'{ID} succeed.')\n",
    "    \n",
    "    except:\n",
    "        print(f'{ID} fail.')"
   ]
  }
 ],
 "metadata": {
  "kernelspec": {
   "display_name": "Python 3 (ipykernel)",
   "language": "python",
   "name": "python3"
  },
  "language_info": {
   "codemirror_mode": {
    "name": "ipython",
    "version": 3
   },
   "file_extension": ".py",
   "mimetype": "text/x-python",
   "name": "python",
   "nbconvert_exporter": "python",
   "pygments_lexer": "ipython3",
   "version": "3.8.13"
  }
 },
 "nbformat": 4,
 "nbformat_minor": 5
}
